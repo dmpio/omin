{
 "cells": [
  {
   "cell_type": "code",
   "execution_count": 6,
   "metadata": {
    "collapsed": true
   },
   "outputs": [],
   "source": [
    "import pickle\n",
    "\n",
    "#BUILD PROTEOME FASTA SEQUENCE DICTIONARY\n",
    "fastafile = \"Databases\\Mouse_UP000000589_20160623.fasta\"#Whole mouse proteome @ 31.8 MB\n",
    "\n",
    "genedict = {}#Dictionary with Uniprot IDs as keys and fasta sequences as values\n",
    "\n",
    "with open(fastafile,\"r\") as infile:\n",
    "    for line in infile:\n",
    "        if line[0] == \">\":#Tests each line to see if it is a new sequence\n",
    "            genename = line.split(\"|\")[1]#Grabs the genename\n",
    "            genedict[genename] = list([line[:-1]])#Makes the first entry for key\n",
    "        else:\n",
    "            genedict[genename].append(line[:-1])#Appeneds fasta lines for key\n",
    "\n",
    "pickle.dump(genedict,open(\"genedict.p\",\"wb\"))"
   ]
  }
 ],
 "metadata": {
  "anaconda-cloud": {},
  "kernelspec": {
   "display_name": "Python [Root]",
   "language": "python",
   "name": "Python [Root]"
  },
  "language_info": {
   "codemirror_mode": {
    "name": "ipython",
    "version": 3
   },
   "file_extension": ".py",
   "mimetype": "text/x-python",
   "name": "python",
   "nbconvert_exporter": "python",
   "pygments_lexer": "ipython3",
   "version": "3.5.2"
  }
 },
 "nbformat": 4,
 "nbformat_minor": 0
}
