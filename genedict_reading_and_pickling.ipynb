{
 "cells": [
  {
   "cell_type": "code",
   "execution_count": 42,
   "metadata": {
    "collapsed": false
   },
   "outputs": [
    {
     "name": "stdout",
     "output_type": "stream",
     "text": [
      "Downloading UP000000589_10090.fasta.gz\n"
     ]
    }
   ],
   "source": [
    "import os\n",
    "database_name = \"UP000000589_10090.fasta.gz\"\n",
    "if database_name not in os.listdir(\"Databases\"):\n",
    "    print(\"Downloading\",database_name)"
   ]
  },
  {
   "cell_type": "code",
   "execution_count": 50,
   "metadata": {
    "collapsed": false
   },
   "outputs": [],
   "source": [
    "import urllib.request\n",
    "\n",
    "uniprot = \"\"\"\n",
    "ftp://ftp.uniprot.org/pub/databases/uniprot/current_release/knowledgebase/reference_proteomes/Eukaryota/UP000000589_10090.fasta.gz\"\"\"\n",
    "\n",
    "# urllib.request.urlretrieve(uniprot, \"mouse.gz\")\n",
    "# uniprot[-1]"
   ]
  },
  {
   "cell_type": "code",
   "execution_count": 33,
   "metadata": {
    "collapsed": false
   },
   "outputs": [],
   "source": [
    "compressed_datafile = \"mouse.gz\"\n",
    "datafile = \"Databases\\mouse.fasta\"\n",
    "with gzip.open(compressed_datafile, 'rb') as infile:\n",
    "    with open(datafile, 'wb') as outfile:\n",
    "        for line in infile:\n",
    "            outfile.write(line)"
   ]
  },
  {
   "cell_type": "code",
   "execution_count": 1,
   "metadata": {
    "collapsed": false
   },
   "outputs": [
    {
     "ename": "FileNotFoundError",
     "evalue": "[Errno 2] No such file or directory: 'Databases\\\\Mouse_UP000000589_20160623.fasta'",
     "output_type": "error",
     "traceback": [
      "\u001b[1;31m---------------------------------------------------------------------------\u001b[0m",
      "\u001b[1;31mFileNotFoundError\u001b[0m                         Traceback (most recent call last)",
      "\u001b[1;32m<ipython-input-1-6393e39056bd>\u001b[0m in \u001b[0;36m<module>\u001b[1;34m()\u001b[0m\n\u001b[0;32m      6\u001b[0m \u001b[0mgenedict\u001b[0m \u001b[1;33m=\u001b[0m \u001b[1;33m{\u001b[0m\u001b[1;33m}\u001b[0m\u001b[1;31m#Dictionary with Uniprot IDs as keys and fasta sequences as values\u001b[0m\u001b[1;33m\u001b[0m\u001b[0m\n\u001b[0;32m      7\u001b[0m \u001b[1;33m\u001b[0m\u001b[0m\n\u001b[1;32m----> 8\u001b[1;33m \u001b[1;32mwith\u001b[0m \u001b[0mopen\u001b[0m\u001b[1;33m(\u001b[0m\u001b[0mfastafile\u001b[0m\u001b[1;33m,\u001b[0m\u001b[1;34m\"r\"\u001b[0m\u001b[1;33m)\u001b[0m \u001b[1;32mas\u001b[0m \u001b[0minfile\u001b[0m\u001b[1;33m:\u001b[0m\u001b[1;33m\u001b[0m\u001b[0m\n\u001b[0m\u001b[0;32m      9\u001b[0m     \u001b[1;32mfor\u001b[0m \u001b[0mline\u001b[0m \u001b[1;32min\u001b[0m \u001b[0minfile\u001b[0m\u001b[1;33m:\u001b[0m\u001b[1;33m\u001b[0m\u001b[0m\n\u001b[0;32m     10\u001b[0m         \u001b[1;32mif\u001b[0m \u001b[0mline\u001b[0m\u001b[1;33m[\u001b[0m\u001b[1;36m0\u001b[0m\u001b[1;33m]\u001b[0m \u001b[1;33m==\u001b[0m \u001b[1;34m\">\"\u001b[0m\u001b[1;33m:\u001b[0m\u001b[1;31m#Tests each line to see if it is a new sequence\u001b[0m\u001b[1;33m\u001b[0m\u001b[0m\n",
      "\u001b[1;31mFileNotFoundError\u001b[0m: [Errno 2] No such file or directory: 'Databases\\\\Mouse_UP000000589_20160623.fasta'"
     ]
    }
   ],
   "source": [
    "import pickle\n",
    "\n",
    "#BUILD PROTEOME FASTA SEQUENCE DICTIONARY\n",
    "fastafile = \"Databases\\Mouse_UP000000589_20160623.fasta\"#Whole mouse proteome @ 31.8 MB\n",
    "\n",
    "genedict = {}#Dictionary with Uniprot IDs as keys and fasta sequences as values\n",
    "\n",
    "with open(fastafile,\"r\") as infile:\n",
    "    for line in infile:\n",
    "        if line[0] == \">\":#Tests each line to see if it is a new sequence\n",
    "            genename = line.split(\"|\")[1]#Grabs the genename\n",
    "            genedict[genename] = list([line[:-1]])#Makes the first entry for key\n",
    "        else:\n",
    "            genedict[genename].append(line[:-1])#Appeneds fasta lines for key\n",
    "\n",
    "pickle.dump(genedict,open(\"genedict.p\",\"wb\"))"
   ]
  },
  {
   "cell_type": "code",
   "execution_count": 12,
   "metadata": {
    "collapsed": false
   },
   "outputs": [],
   "source": [
    "import pickle\n",
    "\n",
    "mod_dict = {}\n",
    "mod_dict[\"Acetyl\"] = \"Acetyl\"\n",
    "mod_dict[\"Aceyl\"] = \"Acetyl\"\n",
    "mod_dict[\"Phospho\"] = \"Phospho\"\n",
    "mod_dict[\"HMG\"] = \"hydroxy...methyl.glutaryl\"\n",
    "\n",
    "pickle.dump(mod_dict,open(\"mod_dict.pickle\",\"wb\"))"
   ]
  },
  {
   "cell_type": "code",
   "execution_count": 13,
   "metadata": {
    "collapsed": false
   },
   "outputs": [],
   "source": [
    "#COPY AND PASTE THIS WHERE YOU WANT TO LOAD mod_dict\n",
    "import pickle\n",
    "mod_dict = pickle.load(open(\"mod_dict.pickle\",\"rb\"))"
   ]
  },
  {
   "cell_type": "code",
   "execution_count": 14,
   "metadata": {
    "collapsed": false
   },
   "outputs": [
    {
     "data": {
      "text/plain": [
       "{'Acetyl': 'Acetyl',\n",
       " 'Aceyl': 'Acetyl',\n",
       " 'HMG': 'hydroxy...methyl.glutaryl',\n",
       " 'Phospho': 'Phospho'}"
      ]
     },
     "execution_count": 14,
     "metadata": {},
     "output_type": "execute_result"
    }
   ],
   "source": [
    "mod_dict"
   ]
  },
  {
   "cell_type": "code",
   "execution_count": null,
   "metadata": {
    "collapsed": true
   },
   "outputs": [],
   "source": []
  }
 ],
 "metadata": {
  "anaconda-cloud": {},
  "kernelspec": {
   "display_name": "Python [Root]",
   "language": "python",
   "name": "Python [Root]"
  },
  "language_info": {
   "codemirror_mode": {
    "name": "ipython",
    "version": 3
   },
   "file_extension": ".py",
   "mimetype": "text/x-python",
   "name": "python",
   "nbconvert_exporter": "python",
   "pygments_lexer": "ipython3",
   "version": "3.5.2"
  }
 },
 "nbformat": 4,
 "nbformat_minor": 0
}
