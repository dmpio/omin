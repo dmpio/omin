{
 "cells": [
  {
   "cell_type": "code",
   "execution_count": 1,
   "metadata": {
    "collapsed": true
   },
   "outputs": [],
   "source": [
    "import os\n",
    "import pickle\n",
    "import pandas as pd\n",
    "import numpy as np\n",
    "\n",
    "@property\n",
    "def label_pos(self):\n",
    "    \"Return a dict with column labels as keys and positions as values.\"\n",
    "    return dict(i[::-1] for i in enumerate(self.columns))\n",
    "\n",
    "setattr(pd.DataFrame, 'label_pos', label_pos)\n",
    "\n",
    "def label_insert(self, label, *args, **kwargs):\n",
    "    \"Insert an array-like into a DataFrame before a column with the given label.\"\n",
    "    self.insert(int(self.label_pos[label]), *args, **kwargs)\n",
    "    \n",
    "setattr(pd.DataFrame, 'label_insert', label_insert)"
   ]
  },
  {
   "cell_type": "code",
   "execution_count": 2,
   "metadata": {},
   "outputs": [],
   "source": [
    "mitocarta = pd.read_excel(open(\"MitoCarta2.0_Mouse.xlsx\", \"rb\"),\n",
    "                          sheetname=0)\n",
    "\n",
    "new_mitocarta_2 = pd.read_excel(open(\"Mouse.MitoCarta2.0.xls\", \"rb\"),\n",
    "                                sheetname=1)"
   ]
  },
  {
   "cell_type": "code",
   "execution_count": 3,
   "metadata": {},
   "outputs": [
    {
     "data": {
      "text/plain": [
       "True"
      ]
     },
     "execution_count": 3,
     "metadata": {},
     "output_type": "execute_result"
    }
   ],
   "source": [
    "all(mitocarta.MouseGeneID == new_mitocarta_2.MouseGeneID)"
   ]
  },
  {
   "cell_type": "code",
   "execution_count": 4,
   "metadata": {
    "collapsed": true
   },
   "outputs": [],
   "source": [
    "matrix = mitocarta.Matrix.astype(bool)\n",
    "\n",
    "ims = mitocarta.IMS.astype(bool)\n",
    "\n",
    "mc_list = mitocarta.MitoCarta2_List.astype(bool)\n",
    "\n",
    "new_mitocarta_2.label_insert('MCARTA2_LIST', matrix.name, matrix)\n",
    "\n",
    "new_mitocarta_2.label_insert('MCARTA2_LIST', ims.name, ims)\n",
    "\n",
    "new_mitocarta_2.label_insert('MCARTA2_LIST', mc_list.name, mc_list)"
   ]
  },
  {
   "cell_type": "code",
   "execution_count": 5,
   "metadata": {
    "collapsed": true
   },
   "outputs": [],
   "source": [
    "new_mitocarta_2.to_pickle('complete_mitocarta_2.p')"
   ]
  }
 ],
 "metadata": {
  "kernelspec": {
   "display_name": "Python 3",
   "language": "python",
   "name": "python3"
  },
  "language_info": {
   "codemirror_mode": {
    "name": "ipython",
    "version": 3
   },
   "file_extension": ".py",
   "mimetype": "text/x-python",
   "name": "python",
   "nbconvert_exporter": "python",
   "pygments_lexer": "ipython3",
   "version": "3.6.1"
  },
  "varInspector": {
   "cols": {
    "lenName": 16,
    "lenType": 16,
    "lenVar": 40
   },
   "kernels_config": {
    "python": {
     "delete_cmd_postfix": "",
     "delete_cmd_prefix": "del ",
     "library": "var_list.py",
     "varRefreshCmd": "print(var_dic_list())"
    },
    "r": {
     "delete_cmd_postfix": ") ",
     "delete_cmd_prefix": "rm(",
     "library": "var_list.r",
     "varRefreshCmd": "cat(var_dic_list()) "
    }
   },
   "types_to_exclude": [
    "module",
    "function",
    "builtin_function_or_method",
    "instance",
    "_Feature"
   ],
   "window_display": false
  }
 },
 "nbformat": 4,
 "nbformat_minor": 2
}
