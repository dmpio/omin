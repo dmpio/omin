{
 "cells": [
  {
   "cell_type": "markdown",
   "metadata": {},
   "source": [
    "# Mitocarta2 Mapping Uniprot Accession to Entrez\n",
    "\n",
    "- http://www.uniprot.org/help/api_idmapping"
   ]
  },
  {
   "cell_type": "code",
   "execution_count": 1,
   "metadata": {
    "collapsed": true
   },
   "outputs": [],
   "source": [
    "import tempfile\n",
    "import omin\n",
    "import pandas as pd\n",
    "from urllib import parse\n",
    "from urllib import request\n",
    "\n",
    "def uniprot_query(start, end, query):\n",
    "    \"\"\"Return a query from the UniProt RESTful API.\"\"\"\n",
    "    url = 'http://www.uniprot.org/uploadlists/'\n",
    "\n",
    "    params = {'from':start,\n",
    "              'to':end,\n",
    "              'format':'tab',\n",
    "              'query':query}\n",
    "    \n",
    "    data = parse.urlencode(params)\n",
    "    req = request.Request(url, data.encode('utf-8'))\n",
    "    response = request.urlopen(req)\n",
    "    res = response.read().decode()\n",
    "    return res"
   ]
  },
  {
   "cell_type": "code",
   "execution_count": 2,
   "metadata": {},
   "outputs": [],
   "source": [
    "# FIXME: Before publishing make sure to include derivation of omin.MitoCartaTwo.data \n",
    "# Create query string.\n",
    "all_gene_ids = omin.MitoCartaTwo.data.MouseGeneID.astype(str).tolist()\n",
    "all_gene_ids = ' '.join(all_gene_ids)\n",
    "# Make query.\n",
    "res = uniprot_query(start='P_ENTREZGENEID', end='ACC', query=all_gene_ids)"
   ]
  },
  {
   "cell_type": "code",
   "execution_count": 3,
   "metadata": {
    "collapsed": true
   },
   "outputs": [],
   "source": [
    "# Format the results.\n",
    "r = '\\t'.join(res.split('\\t')[2:])\n",
    "r = list(filter(lambda x:len(x)>0, r.split('\\n')))\n",
    "r[0] = '\\t'.join(['Entrez',r[0]])\n",
    "r = ['\\t'.join(list(filter(lambda x: len(x)>0, i.split('\\t')))) for i in r]\n",
    "r = '\\n'.join(r)"
   ]
  },
  {
   "cell_type": "code",
   "execution_count": 4,
   "metadata": {},
   "outputs": [],
   "source": [
    "# Create a temporary file for the results.\n",
    "temp = tempfile.TemporaryFile(mode='w+')\n",
    "temp.write(r)\n",
    "temp.seek(0)\n",
    "# Read the results into a pandas DataFrame. \n",
    "req_table = pd.read_table(temp, sep='\\t')\n",
    "# Close and destroy the tempfile\n",
    "temp.close()"
   ]
  },
  {
   "cell_type": "code",
   "execution_count": 5,
   "metadata": {
    "collapsed": true
   },
   "outputs": [],
   "source": [
    "# Format the results table\n",
    "areq = req_table[req_table.columns[:3]].copy()\n",
    "areq.rename(columns={'Entrez':'MouseGeneID','Entry':'Accession'}, inplace=True)\n",
    "areq.rename(columns={'Entry name':'UniProtKB'}, inplace=True)\n",
    "areq = areq[areq.columns[::-1]]"
   ]
  },
  {
   "cell_type": "code",
   "execution_count": 6,
   "metadata": {},
   "outputs": [],
   "source": [
    "# Create a copy of the MitoCarta2 DataFrame so merge doesn't complian.\n",
    "new_mc = omin.MitoCartaTwo.data.copy()\n",
    "nmc = areq.merge(new_mc, on=\"MouseGeneID\", how=\"left\")\n",
    "nmc.to_pickle('uniprotkb_mitocarta2.p.gz', compression='gzip')"
   ]
  },
  {
   "cell_type": "code",
   "execution_count": 7,
   "metadata": {},
   "outputs": [
    {
     "data": {
      "text/plain": [
       "{15925, 245347}"
      ]
     },
     "execution_count": 7,
     "metadata": {},
     "output_type": "execute_result"
    }
   ],
   "source": [
    "# Check to make sure that most Gene IDs are accounted for.\n",
    "\n",
    "mgi_mc = set(new_mc.MouseGeneID.tolist())\n",
    "\n",
    "mgi_mc2 = set(nmc.MouseGeneID.tolist())\n",
    "\n",
    "set.difference(mgi_mc, mgi_mc2)"
   ]
  },
  {
   "cell_type": "markdown",
   "metadata": {},
   "source": [
    "These are the only geen"
   ]
  }
 ],
 "metadata": {
  "kernelspec": {
   "display_name": "Python 3",
   "language": "python",
   "name": "python3"
  },
  "language_info": {
   "codemirror_mode": {
    "name": "ipython",
    "version": 3
   },
   "file_extension": ".py",
   "mimetype": "text/x-python",
   "name": "python",
   "nbconvert_exporter": "python",
   "pygments_lexer": "ipython3",
   "version": "3.6.1"
  },
  "varInspector": {
   "cols": {
    "lenName": 16,
    "lenType": 16,
    "lenVar": 40
   },
   "kernels_config": {
    "python": {
     "delete_cmd_postfix": "",
     "delete_cmd_prefix": "del ",
     "library": "var_list.py",
     "varRefreshCmd": "print(var_dic_list())"
    },
    "r": {
     "delete_cmd_postfix": ") ",
     "delete_cmd_prefix": "rm(",
     "library": "var_list.r",
     "varRefreshCmd": "cat(var_dic_list()) "
    }
   },
   "oldHeight": 364.76666,
   "position": {
    "height": "387px",
    "left": "5.36667px",
    "right": "1587.63px",
    "top": "249px",
    "width": "327px"
   },
   "types_to_exclude": [
    "module",
    "function",
    "builtin_function_or_method",
    "instance",
    "_Feature"
   ],
   "varInspector_section_display": "block",
   "window_display": false
  }
 },
 "nbformat": 4,
 "nbformat_minor": 2
}
